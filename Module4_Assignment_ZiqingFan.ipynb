{
  "nbformat": 4,
  "nbformat_minor": 0,
  "metadata": {
    "colab": {
      "provenance": [],
      "include_colab_link": true
    },
    "kernelspec": {
      "name": "python3",
      "display_name": "Python 3"
    }
  },
  "cells": [
    {
      "cell_type": "markdown",
      "metadata": {
        "id": "view-in-github",
        "colab_type": "text"
      },
      "source": [
        "<a href=\"https://colab.research.google.com/github/fanziqing/ALY6110-Module-4-Assignment/blob/main/Module4_Assignment_ZiqingFan.ipynb\" target=\"_parent\"><img src=\"https://colab.research.google.com/assets/colab-badge.svg\" alt=\"Open In Colab\"/></a>"
      ]
    },
    {
      "metadata": {
        "id": "sq8U3BtmhtRx"
      },
      "cell_type": "markdown",
      "source": [
        "\n",
        "# Prepare for Running Hive on Pyspark in Colab\n"
      ]
    },
    {
      "metadata": {
        "id": "lh5NCoc8fsSO"
      },
      "cell_type": "code",
      "source": [
        "# innstall java\n",
        "!apt-get install openjdk-8-jdk-headless -qq > /dev/null\n",
        "\n",
        "# install spark (change the version number if needed)\n",
        "!wget -q https://archive.apache.org/dist/spark/spark-3.0.0/spark-3.0.0-bin-hadoop3.2.tgz\n",
        "\n",
        "# unzip the spark file to the current folder\n",
        "!tar xf spark-3.0.0-bin-hadoop3.2.tgz\n",
        "\n",
        "# set your spark folder to your system path environment.\n",
        "import os\n",
        "os.environ[\"JAVA_HOME\"] = \"/usr/lib/jvm/java-8-openjdk-amd64\"\n",
        "os.environ[\"SPARK_HOME\"] = \"/content/spark-3.0.0-bin-hadoop3.2\"\n",
        "\n",
        "\n",
        "# install findspark using pip\n",
        "!pip install -q findspark"
      ],
      "execution_count": 2,
      "outputs": []
    },
    {
      "metadata": {
        "id": "9_Uz1NL4gHFx"
      },
      "cell_type": "code",
      "source": [
        "import findspark\n",
        "findspark.init()\n",
        "from pyspark.sql import SparkSession\n",
        "spark = SparkSession.builder.master(\"local[*]\").enableHiveSupport().getOrCreate()\n"
      ],
      "execution_count": 3,
      "outputs": []
    },
    {
      "cell_type": "markdown",
      "source": [
        "# Data Preparation"
      ],
      "metadata": {
        "id": "AAvLhuwtHL7x"
      }
    },
    {
      "cell_type": "code",
      "source": [
        "from google.colab import files\n",
        "files.upload()\n",
        "\n",
        "dataset = spark.read.csv('BostonHousing.csv',inferSchema=True, header =True)"
      ],
      "metadata": {
        "colab": {
          "base_uri": "https://localhost:8080/",
          "height": 74
        },
        "id": "gU9MLK311Qm_",
        "outputId": "60e85fe1-acf1-4101-8e67-94621bf7751b"
      },
      "execution_count": 4,
      "outputs": [
        {
          "output_type": "display_data",
          "data": {
            "text/plain": [
              "<IPython.core.display.HTML object>"
            ],
            "text/html": [
              "\n",
              "     <input type=\"file\" id=\"files-ca4f1224-5bc0-4d55-bed6-9becbe949ca0\" name=\"files[]\" multiple disabled\n",
              "        style=\"border:none\" />\n",
              "     <output id=\"result-ca4f1224-5bc0-4d55-bed6-9becbe949ca0\">\n",
              "      Upload widget is only available when the cell has been executed in the\n",
              "      current browser session. Please rerun this cell to enable.\n",
              "      </output>\n",
              "      <script>// Copyright 2017 Google LLC\n",
              "//\n",
              "// Licensed under the Apache License, Version 2.0 (the \"License\");\n",
              "// you may not use this file except in compliance with the License.\n",
              "// You may obtain a copy of the License at\n",
              "//\n",
              "//      http://www.apache.org/licenses/LICENSE-2.0\n",
              "//\n",
              "// Unless required by applicable law or agreed to in writing, software\n",
              "// distributed under the License is distributed on an \"AS IS\" BASIS,\n",
              "// WITHOUT WARRANTIES OR CONDITIONS OF ANY KIND, either express or implied.\n",
              "// See the License for the specific language governing permissions and\n",
              "// limitations under the License.\n",
              "\n",
              "/**\n",
              " * @fileoverview Helpers for google.colab Python module.\n",
              " */\n",
              "(function(scope) {\n",
              "function span(text, styleAttributes = {}) {\n",
              "  const element = document.createElement('span');\n",
              "  element.textContent = text;\n",
              "  for (const key of Object.keys(styleAttributes)) {\n",
              "    element.style[key] = styleAttributes[key];\n",
              "  }\n",
              "  return element;\n",
              "}\n",
              "\n",
              "// Max number of bytes which will be uploaded at a time.\n",
              "const MAX_PAYLOAD_SIZE = 100 * 1024;\n",
              "\n",
              "function _uploadFiles(inputId, outputId) {\n",
              "  const steps = uploadFilesStep(inputId, outputId);\n",
              "  const outputElement = document.getElementById(outputId);\n",
              "  // Cache steps on the outputElement to make it available for the next call\n",
              "  // to uploadFilesContinue from Python.\n",
              "  outputElement.steps = steps;\n",
              "\n",
              "  return _uploadFilesContinue(outputId);\n",
              "}\n",
              "\n",
              "// This is roughly an async generator (not supported in the browser yet),\n",
              "// where there are multiple asynchronous steps and the Python side is going\n",
              "// to poll for completion of each step.\n",
              "// This uses a Promise to block the python side on completion of each step,\n",
              "// then passes the result of the previous step as the input to the next step.\n",
              "function _uploadFilesContinue(outputId) {\n",
              "  const outputElement = document.getElementById(outputId);\n",
              "  const steps = outputElement.steps;\n",
              "\n",
              "  const next = steps.next(outputElement.lastPromiseValue);\n",
              "  return Promise.resolve(next.value.promise).then((value) => {\n",
              "    // Cache the last promise value to make it available to the next\n",
              "    // step of the generator.\n",
              "    outputElement.lastPromiseValue = value;\n",
              "    return next.value.response;\n",
              "  });\n",
              "}\n",
              "\n",
              "/**\n",
              " * Generator function which is called between each async step of the upload\n",
              " * process.\n",
              " * @param {string} inputId Element ID of the input file picker element.\n",
              " * @param {string} outputId Element ID of the output display.\n",
              " * @return {!Iterable<!Object>} Iterable of next steps.\n",
              " */\n",
              "function* uploadFilesStep(inputId, outputId) {\n",
              "  const inputElement = document.getElementById(inputId);\n",
              "  inputElement.disabled = false;\n",
              "\n",
              "  const outputElement = document.getElementById(outputId);\n",
              "  outputElement.innerHTML = '';\n",
              "\n",
              "  const pickedPromise = new Promise((resolve) => {\n",
              "    inputElement.addEventListener('change', (e) => {\n",
              "      resolve(e.target.files);\n",
              "    });\n",
              "  });\n",
              "\n",
              "  const cancel = document.createElement('button');\n",
              "  inputElement.parentElement.appendChild(cancel);\n",
              "  cancel.textContent = 'Cancel upload';\n",
              "  const cancelPromise = new Promise((resolve) => {\n",
              "    cancel.onclick = () => {\n",
              "      resolve(null);\n",
              "    };\n",
              "  });\n",
              "\n",
              "  // Wait for the user to pick the files.\n",
              "  const files = yield {\n",
              "    promise: Promise.race([pickedPromise, cancelPromise]),\n",
              "    response: {\n",
              "      action: 'starting',\n",
              "    }\n",
              "  };\n",
              "\n",
              "  cancel.remove();\n",
              "\n",
              "  // Disable the input element since further picks are not allowed.\n",
              "  inputElement.disabled = true;\n",
              "\n",
              "  if (!files) {\n",
              "    return {\n",
              "      response: {\n",
              "        action: 'complete',\n",
              "      }\n",
              "    };\n",
              "  }\n",
              "\n",
              "  for (const file of files) {\n",
              "    const li = document.createElement('li');\n",
              "    li.append(span(file.name, {fontWeight: 'bold'}));\n",
              "    li.append(span(\n",
              "        `(${file.type || 'n/a'}) - ${file.size} bytes, ` +\n",
              "        `last modified: ${\n",
              "            file.lastModifiedDate ? file.lastModifiedDate.toLocaleDateString() :\n",
              "                                    'n/a'} - `));\n",
              "    const percent = span('0% done');\n",
              "    li.appendChild(percent);\n",
              "\n",
              "    outputElement.appendChild(li);\n",
              "\n",
              "    const fileDataPromise = new Promise((resolve) => {\n",
              "      const reader = new FileReader();\n",
              "      reader.onload = (e) => {\n",
              "        resolve(e.target.result);\n",
              "      };\n",
              "      reader.readAsArrayBuffer(file);\n",
              "    });\n",
              "    // Wait for the data to be ready.\n",
              "    let fileData = yield {\n",
              "      promise: fileDataPromise,\n",
              "      response: {\n",
              "        action: 'continue',\n",
              "      }\n",
              "    };\n",
              "\n",
              "    // Use a chunked sending to avoid message size limits. See b/62115660.\n",
              "    let position = 0;\n",
              "    do {\n",
              "      const length = Math.min(fileData.byteLength - position, MAX_PAYLOAD_SIZE);\n",
              "      const chunk = new Uint8Array(fileData, position, length);\n",
              "      position += length;\n",
              "\n",
              "      const base64 = btoa(String.fromCharCode.apply(null, chunk));\n",
              "      yield {\n",
              "        response: {\n",
              "          action: 'append',\n",
              "          file: file.name,\n",
              "          data: base64,\n",
              "        },\n",
              "      };\n",
              "\n",
              "      let percentDone = fileData.byteLength === 0 ?\n",
              "          100 :\n",
              "          Math.round((position / fileData.byteLength) * 100);\n",
              "      percent.textContent = `${percentDone}% done`;\n",
              "\n",
              "    } while (position < fileData.byteLength);\n",
              "  }\n",
              "\n",
              "  // All done.\n",
              "  yield {\n",
              "    response: {\n",
              "      action: 'complete',\n",
              "    }\n",
              "  };\n",
              "}\n",
              "\n",
              "scope.google = scope.google || {};\n",
              "scope.google.colab = scope.google.colab || {};\n",
              "scope.google.colab._files = {\n",
              "  _uploadFiles,\n",
              "  _uploadFilesContinue,\n",
              "};\n",
              "})(self);\n",
              "</script> "
            ]
          },
          "metadata": {}
        },
        {
          "output_type": "stream",
          "name": "stdout",
          "text": [
            "Saving BostonHousing.csv to BostonHousing.csv\n"
          ]
        }
      ]
    },
    {
      "cell_type": "code",
      "source": [
        "# Save dataset to a new table in Hive\n",
        "dataset.write.mode(\"overwrite\").saveAsTable(\"BostonHousing\")"
      ],
      "metadata": {
        "id": "bhAzVGmOxMRc"
      },
      "execution_count": 5,
      "outputs": []
    },
    {
      "cell_type": "markdown",
      "source": [
        "# Task 1-9"
      ],
      "metadata": {
        "id": "dRQ_glP6ytps"
      }
    },
    {
      "cell_type": "code",
      "source": [
        "# Task 1: Data Overview\n",
        "\n",
        "# Retrieve and display the first 5 rows of the dataset to get a sense of the data's structure.\n",
        "dataset_5 = spark.sql(\"SELECT * FROM BostonHousing LIMIT 5\")\n",
        "dataset_5.show()\n",
        "\n",
        "# Find and report the total number of records in the dataset.\n",
        "total_records = spark.sql(\"SELECT COUNT(*) AS total_records FROM BostonHousing\").collect()[0][\"total_records\"]\n",
        "print(\"Total number of records in the dataset:\", total_records)\n"
      ],
      "metadata": {
        "colab": {
          "base_uri": "https://localhost:8080/"
        },
        "id": "MkLflFqOZH-s",
        "outputId": "7a5940a1-c475-40f9-b540-5df84196982d"
      },
      "execution_count": 6,
      "outputs": [
        {
          "output_type": "stream",
          "name": "stdout",
          "text": [
            "+-------+----+-----+----+-----+-----+----+------+---+---+-------+------+-----+----+\n",
            "|   crim|  zn|indus|chas|  nox|   rm| age|   dis|rad|tax|ptratio|     b|lstat|medv|\n",
            "+-------+----+-----+----+-----+-----+----+------+---+---+-------+------+-----+----+\n",
            "|0.00632|18.0| 2.31|   0|0.538|6.575|65.2|  4.09|  1|296|   15.3| 396.9| 4.98|24.0|\n",
            "|0.02731| 0.0| 7.07|   0|0.469|6.421|78.9|4.9671|  2|242|   17.8| 396.9| 9.14|21.6|\n",
            "|0.02729| 0.0| 7.07|   0|0.469|7.185|61.1|4.9671|  2|242|   17.8|392.83| 4.03|34.7|\n",
            "|0.03237| 0.0| 2.18|   0|0.458|6.998|45.8|6.0622|  3|222|   18.7|394.63| 2.94|33.4|\n",
            "|0.06905| 0.0| 2.18|   0|0.458|7.147|54.2|6.0622|  3|222|   18.7| 396.9| 5.33|36.2|\n",
            "+-------+----+-----+----+-----+-----+----+------+---+---+-------+------+-----+----+\n",
            "\n",
            "Total number of records in the dataset: 506\n"
          ]
        }
      ]
    },
    {
      "cell_type": "code",
      "source": [
        "# Task 2: Descriptive Statistics\n",
        "\n",
        "# Calculate and display basic statistics (mean, standard deviation, min, max) for the \"medv\" (median home value) column.\n",
        "medv_stats = spark.sql(\"\"\"\n",
        "SELECT\n",
        "  MEAN(medv) AS mean_medv,\n",
        "  STDDEV(medv) AS stddev_medv,\n",
        "  MIN(medv) AS min_medv,\n",
        "  MAX(medv) AS max_medv\n",
        "FROM BostonHousing\n",
        "\"\"\")\n",
        "medv_stats.show()\n",
        "\n",
        "# Calculate and display the mean \"rm\" (average number of rooms per dwelling).\n",
        "mean_rm = spark.sql(\"SELECT MEAN(rm) AS mean_rm FROM BostonHousing\")\n",
        "mean_rm.show()"
      ],
      "metadata": {
        "colab": {
          "base_uri": "https://localhost:8080/"
        },
        "id": "o-Z-Sp700gRr",
        "outputId": "b5bf1b28-d6cc-463e-ea1e-5fb9e64ca5ef"
      },
      "execution_count": 7,
      "outputs": [
        {
          "output_type": "stream",
          "name": "stdout",
          "text": [
            "+------------------+-----------------+--------+--------+\n",
            "|         mean_medv|      stddev_medv|min_medv|max_medv|\n",
            "+------------------+-----------------+--------+--------+\n",
            "|22.532806324110698|9.197104087379815|     5.0|    50.0|\n",
            "+------------------+-----------------+--------+--------+\n",
            "\n",
            "+-----------------+\n",
            "|          mean_rm|\n",
            "+-----------------+\n",
            "|6.284634387351787|\n",
            "+-----------------+\n",
            "\n"
          ]
        }
      ]
    },
    {
      "cell_type": "code",
      "source": [
        "# Task 3: Data Exploration\n",
        "\n",
        "# Identify the property with the highest crime rate (\"crim\"). Provide details about this property.\n",
        "highest_crime = spark.sql(\"\"\"\n",
        "SELECT *\n",
        "FROM BostonHousing\n",
        "ORDER BY crim DESC\n",
        "LIMIT 1\n",
        "\"\"\")\n",
        "highest_crime.show()\n",
        "\n",
        "# Find and report the property with the lowest median home value (\"medv\"). Include its details.\n",
        "lowest_median_home_value = spark.sql(\"\"\"\n",
        "SELECT *\n",
        "FROM BostonHousing\n",
        "ORDER BY medv ASC\n",
        "LIMIT 1\n",
        "\"\"\")\n",
        "lowest_median_home_value .show()"
      ],
      "metadata": {
        "colab": {
          "base_uri": "https://localhost:8080/"
        },
        "id": "SN_UgHkp8BwZ",
        "outputId": "c4aaa8c0-ccec-4570-c77d-a2bdb458efa7"
      },
      "execution_count": 11,
      "outputs": [
        {
          "output_type": "stream",
          "name": "stdout",
          "text": [
            "+-------+---+-----+----+-----+-----+----+------+---+---+-------+-----+-----+----+\n",
            "|   crim| zn|indus|chas|  nox|   rm| age|   dis|rad|tax|ptratio|    b|lstat|medv|\n",
            "+-------+---+-----+----+-----+-----+----+------+---+---+-------+-----+-----+----+\n",
            "|88.9762|0.0| 18.1|   0|0.671|6.968|91.9|1.4165| 24|666|   20.2|396.9|17.21|10.4|\n",
            "+-------+---+-----+----+-----+-----+----+------+---+---+-------+-----+-----+----+\n",
            "\n",
            "+-------+---+-----+----+-----+-----+-----+------+---+---+-------+-----+-----+----+\n",
            "|   crim| zn|indus|chas|  nox|   rm|  age|   dis|rad|tax|ptratio|    b|lstat|medv|\n",
            "+-------+---+-----+----+-----+-----+-----+------+---+---+-------+-----+-----+----+\n",
            "|38.3518|0.0| 18.1|   0|0.693|5.453|100.0|1.4896| 24|666|   20.2|396.9|30.59| 5.0|\n",
            "+-------+---+-----+----+-----+-----+-----+------+---+---+-------+-----+-----+----+\n",
            "\n"
          ]
        }
      ]
    },
    {
      "cell_type": "code",
      "source": [
        "# Task 4: Data Distribution Analysis\n",
        "\n",
        "# Create a histogram showing the distribution of the \"age\" column.\n",
        "import matplotlib.pyplot as plt\n",
        "\n",
        "age = dataset.select('age').rdd.flatMap(lambda x: x).collect()\n",
        "plt.hist(age, bins = 10, color='grey', edgecolor='black')\n",
        "plt.title('Distribution of Age')\n",
        "plt.xlabel('Age')\n",
        "plt.ylabel('Frequency')\n",
        "plt.show()\n",
        "\n",
        "\n",
        "# Calculate and report the percentage of properties with a \"chas\" value of 1\n",
        "# (indicating proximity to the Charles River).\n",
        "percentage_CharlesRiver = spark.sql(\"\"\"\n",
        "SELECT\n",
        "    (COUNT(CASE WHEN chas = 1 THEN 1 ELSE NULL END) / COUNT(*) * 100) AS percentage_near_CharlesRiver\n",
        "FROM BostonHousing\n",
        "\"\"\")\n",
        "percentage_near_CharlesRiver = percentage_CharlesRiver.collect()[0]['percentage_near_CharlesRiver']\n",
        "print(f\"The percentage of properties near Charles River: {percentage_near_CharlesRiver:.2f}%\")\n",
        "\n"
      ],
      "metadata": {
        "colab": {
          "base_uri": "https://localhost:8080/",
          "height": 490
        },
        "id": "20c8kHp39Xc_",
        "outputId": "5669d0d6-3232-4b6e-cc44-ec3945498a0c"
      },
      "execution_count": 16,
      "outputs": [
        {
          "output_type": "display_data",
          "data": {
            "text/plain": [
              "<Figure size 640x480 with 1 Axes>"
            ],
            "image/png": "[encoded data removed]"
          },
          "metadata": {}
        },
        {
          "output_type": "stream",
          "name": "stdout",
          "text": [
            "The percentage of properties near Charles River: 6.92%\n"
          ]
        }
      ]
    },
    {
      "cell_type": "code",
      "source": [
        "# Task 5: Correlation Analysis\n",
        "\n",
        "# Calculate the correlation coefficient between \"rm\" and \"medv.\"\n",
        "# Explain the relationship between the average number of rooms and median home value.\n",
        "corr_rm_medv = spark.sql(\"\"\"\n",
        "SELECT corr(rm, medv) AS correlation_rm_medv\n",
        "FROM BostonHousing\n",
        "\"\"\")\n",
        "corr_rm_medv.show()\n",
        "\n",
        "# Investigate if there is any correlation between \"ptratio\" (pupil-teacher ratio) and\n",
        "# \"nox\" (nitrogen oxide concentration). Report your findings.\n",
        "corr_ptratio_nox = spark.sql(\"\"\"\n",
        "SELECT corr(ptratio, nox) AS correlation_ptratio_nox\n",
        "FROM BostonHousing\n",
        "\"\"\")\n",
        "corr_ptratio_nox.show()\n"
      ],
      "metadata": {
        "colab": {
          "base_uri": "https://localhost:8080/"
        },
        "id": "WyPxA4KT9snK",
        "outputId": "9cb34fa0-03bf-448b-dced-9fcba0bc9222"
      },
      "execution_count": 17,
      "outputs": [
        {
          "output_type": "stream",
          "name": "stdout",
          "text": [
            "+-------------------+\n",
            "|correlation_rm_medv|\n",
            "+-------------------+\n",
            "| 0.6953599470715401|\n",
            "+-------------------+\n",
            "\n",
            "+-----------------------+\n",
            "|correlation_ptratio_nox|\n",
            "+-----------------------+\n",
            "|    0.18893267711276893|\n",
            "+-----------------------+\n",
            "\n"
          ]
        }
      ]
    },
    {
      "cell_type": "code",
      "source": [
        "# Task 6: Advanced Querying\n",
        "\n",
        "# Write a HiveQL query to identify and display the top 5 neighborhoods with the highest median home values (\"medv\").\n",
        "top5_highest_medv = spark.sql(\"\"\"\n",
        "SELECT *\n",
        "FROM BostonHousing\n",
        "ORDER BY medv DESC\n",
        "LIMIT 5\n",
        "\"\"\")\n",
        "top5_highest_medv.show()\n",
        "\n",
        "# Calculate and report the average property age for neighborhoods with a \"chas\" value of 1 compared to those with \"chas\" value of 0.\n",
        "average_age_by_chas = spark.sql(\"\"\"\n",
        "SELECT chas, AVG(age) AS average_age\n",
        "FROM BostonHousing\n",
        "GROUP BY chas\n",
        "\"\"\")\n",
        "average_age_by_chas.show()\n"
      ],
      "metadata": {
        "colab": {
          "base_uri": "https://localhost:8080/"
        },
        "id": "VChgZZz3-7e3",
        "outputId": "fb612f7a-f72c-41cb-ffb1-c2c5e7c7bf64"
      },
      "execution_count": 18,
      "outputs": [
        {
          "output_type": "stream",
          "name": "stdout",
          "text": [
            "+-------+----+-----+----+-----+-----+----+------+---+---+-------+------+-----+----+\n",
            "|   crim|  zn|indus|chas|  nox|   rm| age|   dis|rad|tax|ptratio|     b|lstat|medv|\n",
            "+-------+----+-----+----+-----+-----+----+------+---+---+-------+------+-----+----+\n",
            "|1.51902| 0.0|19.58|   1|0.605|8.375|93.9| 2.162|  5|403|   14.7|388.45| 3.32|50.0|\n",
            "|0.01381|80.0| 0.46|   0|0.422|7.875|32.0|5.6484|  4|255|   14.4|394.23| 2.97|50.0|\n",
            "|2.01019| 0.0|19.58|   0|0.605|7.929|96.2|2.0459|  5|403|   14.7| 369.3|  3.7|50.0|\n",
            "|1.83377| 0.0|19.58|   1|0.605|7.802|98.2|2.0407|  5|403|   14.7|389.61| 1.92|50.0|\n",
            "|1.46336| 0.0|19.58|   0|0.605|7.489|90.8|1.9709|  5|403|   14.7|374.43| 1.73|50.0|\n",
            "+-------+----+-----+----+-----+-----+----+------+---+---+-------+------+-----+----+\n",
            "\n",
            "+----+-----------------+\n",
            "|chas|      average_age|\n",
            "+----+-----------------+\n",
            "|   1|77.50000000000001|\n",
            "|   0|67.91167728237794|\n",
            "+----+-----------------+\n",
            "\n"
          ]
        }
      ]
    },
    {
      "cell_type": "code",
      "source": [
        "# Task 7: Visualization\n",
        "\n",
        "# Create a Hive view named \"property_age_view\" that includes the \"age\" and \"medv\" columns.\n",
        "spark.sql(\"\"\"\n",
        "CREATE OR REPLACE VIEW property_age_view AS\n",
        "SELECT age, medv\n",
        "FROM BostonHousing\n",
        "\"\"\")\n",
        "age_view = spark.sql(\"SELECT * FROM property_age_view\")\n",
        "age_view.show(5)\n",
        "\n",
        "# Plot a scatter plot of property age against median home value using a data visualization tool of your choice.\n",
        "age_view_pd = age_view.toPandas()\n",
        "plt.scatter(age_view_pd['age'], age_view_pd['medv'], alpha=0.7)\n",
        "plt.title('Scatter Plot of Property Age vs Median Home Value')\n",
        "plt.xlabel('Property Age')\n",
        "plt.ylabel('Median Home Value')\n",
        "plt.show()\n"
      ],
      "metadata": {
        "colab": {
          "base_uri": "https://localhost:8080/",
          "height": 668
        },
        "id": "WPfWQTKtBV0T",
        "outputId": "23593b87-0118-41c9-bb49-0eb75e5c558e"
      },
      "execution_count": 19,
      "outputs": [
        {
          "output_type": "stream",
          "name": "stdout",
          "text": [
            "+----+----+\n",
            "| age|medv|\n",
            "+----+----+\n",
            "|65.2|24.0|\n",
            "|78.9|21.6|\n",
            "|61.1|34.7|\n",
            "|45.8|33.4|\n",
            "|54.2|36.2|\n",
            "+----+----+\n",
            "only showing top 5 rows\n",
            "\n"
          ]
        },
        {
          "output_type": "display_data",
          "data": {
            "text/plain": [
              "<Figure size 640x480 with 1 Axes>"
            ],
            "image/png": "[encoded data removed]"
          },
          "metadata": {}
        }
      ]
    },
    {
      "cell_type": "code",
      "source": [
        "# Task 8: Outliers Detection\n",
        "\n",
        "# Write a query to identify and report properties with a \"crim\" value greater than 10 (considered as potential outliers).\n",
        "outliers_crim_10 = spark.sql(\"\"\"\n",
        "SELECT *\n",
        "FROM BostonHousing\n",
        "WHERE crim > 10\n",
        "\"\"\")\n",
        "outliers_crim_10.show()\n",
        "\n",
        "outliers_count_ = spark.sql(\"\"\"\n",
        "SELECT COUNT(*) AS outlier_count\n",
        "FROM BostonHousing\n",
        "WHERE crim > 10\n",
        "\"\"\")\n",
        "outlier_count = outliers_count_.collect()[0]['outlier_count']\n",
        "print(f\"Number of properties with 'crim' value greater than 10: {outlier_count}\")\n"
      ],
      "metadata": {
        "colab": {
          "base_uri": "https://localhost:8080/"
        },
        "id": "bQ5Np4zOBYJv",
        "outputId": "f3a6772a-7225-4e38-f5a9-a56b004750b0"
      },
      "execution_count": 24,
      "outputs": [
        {
          "output_type": "stream",
          "name": "stdout",
          "text": [
            "+-------+---+-----+----+-----+-----+-----+------+---+---+-------+------+-----+----+\n",
            "|   crim| zn|indus|chas|  nox|   rm|  age|   dis|rad|tax|ptratio|     b|lstat|medv|\n",
            "+-------+---+-----+----+-----+-----+-----+------+---+---+-------+------+-----+----+\n",
            "|13.5222|0.0| 18.1|   0|0.631|3.863|100.0|1.5106| 24|666|   20.2|131.42|13.33|23.1|\n",
            "|11.1081|0.0| 18.1|   0|0.668|4.906|100.0|1.1742| 24|666|   20.2| 396.9|34.77|13.8|\n",
            "|18.4982|0.0| 18.1|   0|0.668|4.138|100.0| 1.137| 24|666|   20.2| 396.9|37.97|13.8|\n",
            "|19.6091|0.0| 18.1|   0|0.671|7.313| 97.9|1.3163| 24|666|   20.2| 396.9|13.44|15.0|\n",
            "| 15.288|0.0| 18.1|   0|0.671|6.649| 93.3|1.3449| 24|666|   20.2|363.02|23.24|13.9|\n",
            "|23.6482|0.0| 18.1|   0|0.671| 6.38| 96.2|1.3861| 24|666|   20.2| 396.9|23.69|13.1|\n",
            "|17.8667|0.0| 18.1|   0|0.671|6.223|100.0|1.3861| 24|666|   20.2|393.74|21.78|10.2|\n",
            "|88.9762|0.0| 18.1|   0|0.671|6.968| 91.9|1.4165| 24|666|   20.2| 396.9|17.21|10.4|\n",
            "|15.8744|0.0| 18.1|   0|0.671|6.545| 99.1|1.5192| 24|666|   20.2| 396.9|21.08|10.9|\n",
            "|20.0849|0.0| 18.1|   0|  0.7|4.368| 91.2|1.4395| 24|666|   20.2|285.83|30.63| 8.8|\n",
            "|16.8118|0.0| 18.1|   0|  0.7|5.277| 98.1|1.4261| 24|666|   20.2| 396.9|30.81| 7.2|\n",
            "|24.3938|0.0| 18.1|   0|  0.7|4.652|100.0|1.4672| 24|666|   20.2| 396.9|28.28|10.5|\n",
            "|22.5971|0.0| 18.1|   0|  0.7|  5.0| 89.5|1.5184| 24|666|   20.2| 396.9|31.99| 7.4|\n",
            "|14.3337|0.0| 18.1|   0|  0.7| 4.88|100.0|1.5895| 24|666|   20.2|372.92|30.62|10.2|\n",
            "|11.5779|0.0| 18.1|   0|  0.7|5.036| 97.0|  1.77| 24|666|   20.2| 396.9|25.68| 9.7|\n",
            "|13.3598|0.0| 18.1|   0|0.693|5.887| 94.7|1.7821| 24|666|   20.2| 396.9|16.35|12.7|\n",
            "|38.3518|0.0| 18.1|   0|0.693|5.453|100.0|1.4896| 24|666|   20.2| 396.9|30.59| 5.0|\n",
            "|25.0461|0.0| 18.1|   0|0.693|5.987|100.0|1.5888| 24|666|   20.2| 396.9|26.77| 5.6|\n",
            "|14.2362|0.0| 18.1|   0|0.693|6.343|100.0|1.5741| 24|666|   20.2| 396.9|20.32| 7.2|\n",
            "|24.8017|0.0| 18.1|   0|0.693|5.349| 96.0|1.7028| 24|666|   20.2| 396.9|19.77| 8.3|\n",
            "+-------+---+-----+----+-----+-----+-----+------+---+---+-------+------+-----+----+\n",
            "only showing top 20 rows\n",
            "\n",
            "Number of properties with 'crim' value greater than 10: 54\n"
          ]
        }
      ]
    },
    {
      "cell_type": "code",
      "source": [
        "# Task 9: Hypothesis Testing (20 minutes)\n",
        "\n",
        "# Formulate a hypothesis about the impact of the \"rm\" (average number of rooms) on median home value.\n",
        "# Null Hypothesis : There is no significant linear relationship between the number of rooms (\"rm\") and the median\n",
        "# home value (\"medv\"). The slope of the regression line relating \"rm\" to \"medv\" is zero\n",
        "\n",
        "# Alternative Hypothesis : There is significant linear relationship between the number of rooms (\"rm\") and the median\n",
        "# home value (\"medv\"). The slope of the regression line relating \"rm\" to \"medv\" is NOT zero.\n",
        "\n",
        "# Conduct a hypothesis test using HiveQL to determine if there is a statistically significant relationship between these variables.\n",
        "from pyspark.ml.feature import VectorAssembler\n",
        "\n",
        "vectorAssembler = VectorAssembler(inputCols=['rm'], outputCol='features')\n",
        "vdf = vectorAssembler.transform(dataset)\n",
        "vdf = vdf.select(['features', 'medv'])\n",
        "\n",
        "from pyspark.ml.regression import LinearRegression\n",
        "\n",
        "# Setup the linear regression model\n",
        "lr = LinearRegression(featuresCol='features', labelCol='medv')\n",
        "lr_model = lr.fit(vdf)\n",
        "\n",
        "# Print the coefficients (slope) and intercept (starting point)\n",
        "print(\"Coefficients:\", lr_model.coefficients)\n",
        "print(\"Intercept:\", lr_model.intercept)\n",
        "\n",
        "# Summary of the model\n",
        "summary = lr_model.summary\n",
        "\n",
        "# Show the p-value and R2 statistic\n",
        "print(\"P-Value for rm coefficient:\", summary.pValues[0])\n",
        "print(\"R2:\", summary.r2)\n",
        "\n"
      ],
      "metadata": {
        "colab": {
          "base_uri": "https://localhost:8080/"
        },
        "id": "6gl1y24GCEFM",
        "outputId": "1e9caed0-e5b3-4617-8b30-499c41631d15"
      },
      "execution_count": 25,
      "outputs": [
        {
          "output_type": "stream",
          "name": "stdout",
          "text": [
            "Coefficients: [9.102108981180814]\n",
            "Intercept: -34.67062077644179\n",
            "P-Value for rm coefficient: 0.0\n",
            "R2: 0.4835254559913341\n"
          ]
        }
      ]
    }
  ]
}